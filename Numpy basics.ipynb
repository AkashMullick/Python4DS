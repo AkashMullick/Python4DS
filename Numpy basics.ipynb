{
 "cells": [
  {
   "cell_type": "markdown",
   "metadata": {},
   "source": [
    "# <span style=\"color:dodgerBlue\">Video 1 Goals</span>\n",
    "\n",
    "* Create Rank 1 and Rank 2 ndarrays\n",
    "* Access elements in ndarrays using basic indexing\n",
    "* Use built-in functions to quickly and easily create useful ndarrays"
   ]
  },
  {
   "cell_type": "markdown",
   "metadata": {},
   "source": [
    "## Creating a Rank 1 numpy array"
   ]
  },
  {
   "cell_type": "code",
   "execution_count": 5,
   "metadata": {},
   "outputs": [
    {
     "name": "stdout",
     "output_type": "stream",
     "text": [
      "<class 'numpy.ndarray'>\n"
     ]
    }
   ],
   "source": [
    "import numpy as np\n",
    "an_array = np.array([3, 33, 333]) # Create a rank 1 array\n",
    "print(type(an_array)) # The type of an ndarray is \"<class 'numpy.ndarray'>\""
   ]
  },
  {
   "cell_type": "code",
   "execution_count": 2,
   "metadata": {},
   "outputs": [
    {
     "name": "stdout",
     "output_type": "stream",
     "text": [
      "(3,)\n"
     ]
    }
   ],
   "source": [
    "# test the shape of the array that was just created, it should have just one dimension\n",
    "print(an_array.shape)"
   ]
  },
  {
   "cell_type": "code",
   "execution_count": 3,
   "metadata": {},
   "outputs": [
    {
     "name": "stdout",
     "output_type": "stream",
     "text": [
      "3 33 333\n"
     ]
    }
   ],
   "source": [
    "#because this is a 1-rank array, we need only one index to access  each element\n",
    "print(an_array[0], an_array[1], an_array[2])"
   ]
  },
  {
   "cell_type": "code",
   "execution_count": 4,
   "metadata": {},
   "outputs": [
    {
     "name": "stdout",
     "output_type": "stream",
     "text": [
      "[888  33 333]\n"
     ]
    }
   ],
   "source": [
    "# Since ndarrays are mutable, we can an element's value\n",
    "an_array[0] = 888\n",
    "print(an_array)"
   ]
  },
  {
   "cell_type": "markdown",
   "metadata": {},
   "source": [
    "## How to create a Rank 2 numpy array"
   ]
  },
  {
   "cell_type": "code",
   "execution_count": 10,
   "metadata": {},
   "outputs": [
    {
     "name": "stdout",
     "output_type": "stream",
     "text": [
      "[[11 12 13]\n",
      " [21 22 23]]\n",
      "The shape is 2 rows, 3 columns:  (2, 3)\n",
      "Accessing elements [0,0], [0, 1], and [1, 0] of the ndarray:  11 , 12 , 21\n"
     ]
    }
   ],
   "source": [
    "another = np.array([[11, 12, 13], [21, 22, 23]]) # Create a rank 2 array\n",
    "print(another)\n",
    "print(\"The shape is 2 rows, 3 columns: \", another.shape) # print rows x columns\n",
    "print(\"Accessing elements [0,0], [0, 1], and [1, 0] of the ndarray: \", another[0 ,0], \",\", another[0, 1], \",\", another[1, 0])"
   ]
  },
  {
   "cell_type": "markdown",
   "metadata": {},
   "source": [
    "### There are many ways to create numpy arrays"
   ]
  },
  {
   "cell_type": "code",
   "execution_count": 12,
   "metadata": {},
   "outputs": [
    {
     "name": "stdout",
     "output_type": "stream",
     "text": [
      "[[0. 0.]\n",
      " [0. 0.]]\n"
     ]
    }
   ],
   "source": [
    "import numpy as np\n",
    "\n",
    "# create a 2x2 array of zeros\n",
    "ex1 = np.zeros((2, 2,))\n",
    "print(ex1)"
   ]
  },
  {
   "cell_type": "code",
   "execution_count": 13,
   "metadata": {},
   "outputs": [
    {
     "name": "stdout",
     "output_type": "stream",
     "text": [
      "[[9. 9.]\n",
      " [9. 9.]]\n"
     ]
    }
   ],
   "source": [
    "# create a 2x2 array filled with 9.0\n",
    "ex2 = np.full((2, 2,), 9.0)\n",
    "print(ex2)"
   ]
  },
  {
   "cell_type": "code",
   "execution_count": 14,
   "metadata": {},
   "outputs": [
    {
     "name": "stdout",
     "output_type": "stream",
     "text": [
      "[[1. 0.]\n",
      " [0. 1.]]\n"
     ]
    }
   ],
   "source": [
    "# create a 2x2 matrix with the diagonal 1s and the others 0\n",
    "ex3 = np.eye(2,2)\n",
    "print(ex3)"
   ]
  },
  {
   "cell_type": "code",
   "execution_count": 18,
   "metadata": {},
   "outputs": [
    {
     "name": "stdout",
     "output_type": "stream",
     "text": [
      "[[1. 1.]]\n",
      "(1, 2)\n",
      "1.0\n"
     ]
    }
   ],
   "source": [
    "# create an array of ones\n",
    "ex4 = np.ones((1, 2))\n",
    "print(ex4)\n",
    "\n",
    "# ex4 is actually rank 2, its is a 2x1 array\n",
    "print(ex4.shape)\n",
    "\n",
    "# we need to use two indixes to access an element\n",
    "print(ex4[0, 1])"
   ]
  },
  {
   "cell_type": "code",
   "execution_count": 19,
   "metadata": {},
   "outputs": [
    {
     "name": "stdout",
     "output_type": "stream",
     "text": [
      "[[0.55043449 0.87648094]\n",
      " [0.61963682 0.07707372]]\n"
     ]
    }
   ],
   "source": [
    "# create an array of random floats between 0 and 1\n",
    "ex5 = np.random.random((2, 2))\n",
    "print(ex5)"
   ]
  },
  {
   "cell_type": "markdown",
   "metadata": {},
   "source": [
    "# <span style=\"color:dodgerBlue\">Video 2 Goals</span>\n",
    "\n",
    "* Use slice indexing to access subsets of an ndarray\n",
    "* Recognize that such indexing creates a second reference to the same underlying data"
   ]
  },
  {
   "cell_type": "markdown",
   "metadata": {},
   "source": [
    "## Array Indexing"
   ]
  },
  {
   "cell_type": "markdown",
   "metadata": {},
   "source": [
    "### Slice Indexing"
   ]
  },
  {
   "cell_type": "code",
   "execution_count": 24,
   "metadata": {},
   "outputs": [
    {
     "name": "stdout",
     "output_type": "stream",
     "text": [
      "[[11 12 13 14]\n",
      " [21 22 23 24]\n",
      " [31 32 33 34]]\n"
     ]
    }
   ],
   "source": [
    "import numpy as np\n",
    "\n",
    "# Create a rank 2 array of shape (3, 4)\n",
    "an_array = np.array([[11, 12, 13, 14], [21, 22, 23, 24], [31, 32, 33, 34]])\n",
    "print(an_array)"
   ]
  },
  {
   "cell_type": "markdown",
   "metadata": {},
   "source": [
    "Use array slicing to get a subarray consisting of the first 2 rows x 2 columns"
   ]
  },
  {
   "cell_type": "code",
   "execution_count": 26,
   "metadata": {},
   "outputs": [
    {
     "name": "stdout",
     "output_type": "stream",
     "text": [
      "[[12 13]\n",
      " [22 23]]\n"
     ]
    }
   ],
   "source": [
    "a_slice = an_array[:2, 1:3]\n",
    "print(a_slice)"
   ]
  },
  {
   "cell_type": "markdown",
   "metadata": {},
   "source": [
    "When you modify a slice, you actually modify the underlying array"
   ]
  },
  {
   "cell_type": "code",
   "execution_count": 27,
   "metadata": {},
   "outputs": [
    {
     "name": "stdout",
     "output_type": "stream",
     "text": [
      "Before: 12\n",
      "After: 1000\n"
     ]
    }
   ],
   "source": [
    "print(\"Before:\", an_array[0, 1]) # inspect the element at 0, 1\n",
    "a_slice[0, 0] = 1000 # a_slice[0,0] is the same piece of data as an_array[0, 1]\n",
    "print(\"After:\", an_array[0, 1])"
   ]
  },
  {
   "cell_type": "markdown",
   "metadata": {},
   "source": [
    "### Using both integer indexing and slice indexing"
   ]
  },
  {
   "cell_type": "code",
   "execution_count": 30,
   "metadata": {},
   "outputs": [
    {
     "name": "stdout",
     "output_type": "stream",
     "text": [
      "[[11 12 13 14]\n",
      " [21 22 23 24]\n",
      " [31 32 33 34]]\n"
     ]
    }
   ],
   "source": [
    "# Create a rank 2 array of shape (3, 4)\n",
    "an_array = np.array([[11, 12, 13, 14], [21, 22, 23, 24], [31, 32, 33, 34]])\n",
    "print(an_array)"
   ]
  },
  {
   "cell_type": "code",
   "execution_count": 31,
   "metadata": {},
   "outputs": [
    {
     "name": "stdout",
     "output_type": "stream",
     "text": [
      "[21 22 23 24] (4,)\n"
     ]
    }
   ],
   "source": [
    "# Using both integer indexing and slicing generates an array of lower rank\n",
    "row_rank1 = an_array[1, :] # rank 1 view\n",
    "print(row_rank1, row_rank1.shape) # notice that there is only a single []"
   ]
  },
  {
   "cell_type": "code",
   "execution_count": 32,
   "metadata": {},
   "outputs": [
    {
     "name": "stdout",
     "output_type": "stream",
     "text": [
      "[[21 22 23 24]] (1, 4)\n"
     ]
    }
   ],
   "source": [
    "# Using only slicing generates an array of the same rank as the original array\n",
    "row_rank2 = an_array[1:2, :] # Rank 2 view\n",
    "print(row_rank2, row_rank2.shape) # notice that there is [[]]"
   ]
  },
  {
   "cell_type": "code",
   "execution_count": 33,
   "metadata": {},
   "outputs": [
    {
     "name": "stdout",
     "output_type": "stream",
     "text": [
      "[12 22 32] (3,)\n",
      "\n",
      "[[12]\n",
      " [22]\n",
      " [32]] (3, 1)\n"
     ]
    }
   ],
   "source": [
    "# The same concept applies to collumns of an array\n",
    "col_rank1 = an_array[:, 1]\n",
    "col_rank2 = an_array[:, 1:2]\n",
    "print(col_rank1, col_rank1.shape)\n",
    "print()\n",
    "print(col_rank2, col_rank2.shape)"
   ]
  },
  {
   "cell_type": "markdown",
   "metadata": {},
   "source": [
    "### Array Indexing for changing elements"
   ]
  },
  {
   "cell_type": "code",
   "execution_count": 42,
   "metadata": {},
   "outputs": [
    {
     "name": "stdout",
     "output_type": "stream",
     "text": [
      "Original Array:\n",
      "[[11 12 13]\n",
      " [21 22 23]\n",
      " [31 32 33]\n",
      " [41 42 43]]\n"
     ]
    }
   ],
   "source": [
    "# Create a new array (4, 3)\n",
    "an_array = np.array([[11,12,13], [21,22,23], [31,32,33], [41,42,43]])\n",
    "print(\"Original Array:\")\n",
    "print(an_array)"
   ]
  },
  {
   "cell_type": "code",
   "execution_count": 43,
   "metadata": {},
   "outputs": [
    {
     "name": "stdout",
     "output_type": "stream",
     "text": [
      "\n",
      "Column indices picked :  [0 1 2 0]\n",
      "\n",
      "Row indices picked :  [0 1 2 3]\n"
     ]
    }
   ],
   "source": [
    "# Create an array of indices\n",
    "col_indices = np.array([0, 1, 2, 0])\n",
    "print(\"\\nColumn indices picked : \", col_indices)\n",
    "\n",
    "row_indices = np.arange(4)\n",
    "print(\"\\nRow indices picked : \", row_indices)"
   ]
  },
  {
   "cell_type": "code",
   "execution_count": 44,
   "metadata": {},
   "outputs": [
    {
     "name": "stdout",
     "output_type": "stream",
     "text": [
      "0 ,  0\n",
      "1 ,  1\n",
      "2 ,  2\n",
      "3 ,  0\n"
     ]
    }
   ],
   "source": [
    "# Use zip to examine the pairings of row_indices and col_indices\n",
    "for row, col in zip(row_indices, col_indices):\n",
    "        print(row, \", \", col)"
   ]
  },
  {
   "cell_type": "code",
   "execution_count": 46,
   "metadata": {},
   "outputs": [
    {
     "name": "stdout",
     "output_type": "stream",
     "text": [
      "Values in the array at those indices:  [11 22 33 41]\n"
     ]
    }
   ],
   "source": [
    "# Select one element from each row\n",
    "print(\"Values in the array at those indices: \",an_array[row_indices, col_indices])"
   ]
  },
  {
   "cell_type": "code",
   "execution_count": 48,
   "metadata": {},
   "outputs": [
    {
     "name": "stdout",
     "output_type": "stream",
     "text": [
      "\n",
      "Changed Array:\n",
      "[[121  12  13]\n",
      " [ 21 132  23]\n",
      " [ 31  32 143]\n",
      " [151  42  43]]\n"
     ]
    }
   ],
   "source": [
    "# Change an element from each row using the indices selected\n",
    "an_array[row_indices, col_indices] += 100\n",
    "print(\"\\nChanged Array:\")\n",
    "print(an_array)"
   ]
  },
  {
   "cell_type": "markdown",
   "metadata": {},
   "source": [
    "# <span style=\"color:dodgerBlue\">Video 3 Goals</span>\n",
    "\n",
    "* Use boolean indexing to access and permute relevant data in ndarrays"
   ]
  },
  {
   "cell_type": "code",
   "execution_count": 50,
   "metadata": {},
   "outputs": [
    {
     "name": "stdout",
     "output_type": "stream",
     "text": [
      "[[11 12]\n",
      " [21 22]\n",
      " [31 32]]\n"
     ]
    }
   ],
   "source": [
    "# Create an 3x2 array\n",
    "an_array = np.array([[11, 12], [21, 22], [31, 32]])\n",
    "print(an_array)"
   ]
  },
  {
   "cell_type": "code",
   "execution_count": 53,
   "metadata": {},
   "outputs": [
    {
     "data": {
      "text/plain": [
       "array([[False, False],\n",
       "       [ True,  True],\n",
       "       [ True,  True]])"
      ]
     },
     "execution_count": 53,
     "metadata": {},
     "output_type": "execute_result"
    }
   ],
   "source": [
    "# Create a filter which will assign boolean values for whether each element is > 15\n",
    "filter = (an_array > 15)\n",
    "filter"
   ]
  },
  {
   "cell_type": "markdown",
   "metadata": {},
   "source": [
    "The filter is a same size ndarray as an_array which is filled with True for each element whose corresponding element in an_array which is greater than 15 and False for those elements whose value is less than 15."
   ]
  },
  {
   "cell_type": "code",
   "execution_count": 54,
   "metadata": {},
   "outputs": [
    {
     "name": "stdout",
     "output_type": "stream",
     "text": [
      "[21 22 31 32]\n"
     ]
    }
   ],
   "source": [
    "# Select just those elements which meet the criteria\n",
    "print(an_array[filter])"
   ]
  },
  {
   "cell_type": "code",
   "execution_count": 56,
   "metadata": {},
   "outputs": [
    {
     "name": "stdout",
     "output_type": "stream",
     "text": [
      "[21 22 31 32]\n"
     ]
    }
   ],
   "source": [
    "# We could do the previous two steps in one step\n",
    "print(an_array[an_array > 15])"
   ]
  },
  {
   "cell_type": "markdown",
   "metadata": {},
   "source": [
    "What is particularly useful is that we can actually change elements in the array applying a similar logical filter.  Let's add 100 to all the even values."
   ]
  },
  {
   "cell_type": "code",
   "execution_count": 57,
   "metadata": {},
   "outputs": [
    {
     "name": "stdout",
     "output_type": "stream",
     "text": [
      "[[ 11 112]\n",
      " [ 21 122]\n",
      " [ 31 132]]\n"
     ]
    }
   ],
   "source": [
    "an_array[an_array % 2 == 0] += 100\n",
    "print(an_array)"
   ]
  },
  {
   "cell_type": "markdown",
   "metadata": {},
   "source": [
    "# <span style=\"color:dodgerBlue\">Video 4 Goals</span>\n",
    "\n",
    "* Examine and set the datatype of an ndarray\n",
    "* Use common ndarray functions"
   ]
  },
  {
   "cell_type": "markdown",
   "metadata": {},
   "source": [
    "## Datatypes and Array Operations"
   ]
  },
  {
   "cell_type": "markdown",
   "metadata": {},
   "source": [
    "### Datatypes"
   ]
  },
  {
   "cell_type": "code",
   "execution_count": 58,
   "metadata": {},
   "outputs": [
    {
     "name": "stdout",
     "output_type": "stream",
     "text": [
      "int32\n"
     ]
    }
   ],
   "source": [
    "ex1 = np.array([11, 12]) # Python automatically assigns the data type\n",
    "print(ex1.dtype)"
   ]
  },
  {
   "cell_type": "code",
   "execution_count": 60,
   "metadata": {
    "scrolled": true
   },
   "outputs": [
    {
     "name": "stdout",
     "output_type": "stream",
     "text": [
      "float64\n"
     ]
    }
   ],
   "source": [
    "ex2 = np.array([11.0, 12.0]) # Python automatically assigns the data type\n",
    "print(ex2.dtype)"
   ]
  },
  {
   "cell_type": "code",
   "execution_count": 65,
   "metadata": {},
   "outputs": [
    {
     "name": "stdout",
     "output_type": "stream",
     "text": [
      "int64\n"
     ]
    }
   ],
   "source": [
    "ex3 = np.array([11, 21], dtype=np.int64) # We can also tell Python the  data type\n",
    "print(ex3.dtype)"
   ]
  },
  {
   "cell_type": "code",
   "execution_count": 66,
   "metadata": {},
   "outputs": [
    {
     "name": "stdout",
     "output_type": "stream",
     "text": [
      "int64\n",
      "\n",
      "[11 12]\n"
     ]
    }
   ],
   "source": [
    "# We can use this to force floats into integers (using floor function)\n",
    "ex4 = np.array([11.1,12.7], dtype=np.int64)\n",
    "print(ex4.dtype)\n",
    "print()\n",
    "print(ex4)"
   ]
  },
  {
   "cell_type": "code",
   "execution_count": 67,
   "metadata": {},
   "outputs": [
    {
     "name": "stdout",
     "output_type": "stream",
     "text": [
      "float64\n",
      "\n",
      "[11. 21.]\n"
     ]
    }
   ],
   "source": [
    "# We can use this to force integers into floats if you anticipate that the values may change to floats later\n",
    "ex5 = np.array([11, 21], dtype=np.float64)\n",
    "print(ex5.dtype)\n",
    "print()\n",
    "print(ex5)"
   ]
  },
  {
   "cell_type": "markdown",
   "metadata": {},
   "source": [
    "### Arithmetic Array Operations"
   ]
  },
  {
   "cell_type": "code",
   "execution_count": 68,
   "metadata": {},
   "outputs": [
    {
     "name": "stdout",
     "output_type": "stream",
     "text": [
      "[[111 112]\n",
      " [121 122]]\n",
      "\n",
      "[[211.1 212.1]\n",
      " [221.1 222.1]]\n"
     ]
    }
   ],
   "source": [
    "x = np.array([[111,112],[121,122]], dtype=np.int)\n",
    "y = np.array([[211.1,212.1],[221.1,222.1]], dtype=np.float64)\n",
    "\n",
    "print(x)\n",
    "print()\n",
    "print(y)"
   ]
  },
  {
   "cell_type": "code",
   "execution_count": 69,
   "metadata": {},
   "outputs": [
    {
     "name": "stdout",
     "output_type": "stream",
     "text": [
      "[[322.1 324.1]\n",
      " [342.1 344.1]]\n",
      "\n",
      "[[322.1 324.1]\n",
      " [342.1 344.1]]\n"
     ]
    }
   ],
   "source": [
    "# Add arrays x and y\n",
    "print(x + y)         # The plus sign works\n",
    "print()\n",
    "print(np.add(x, y))  # So does the numpy function \"add\""
   ]
  },
  {
   "cell_type": "code",
   "execution_count": 70,
   "metadata": {},
   "outputs": [
    {
     "name": "stdout",
     "output_type": "stream",
     "text": [
      "[[-100.1 -100.1]\n",
      " [-100.1 -100.1]]\n",
      "\n",
      "[[-100.1 -100.1]\n",
      " [-100.1 -100.1]]\n"
     ]
    }
   ],
   "source": [
    "# subtract\n",
    "print(x - y)\n",
    "print()\n",
    "print(np.subtract(x, y))"
   ]
  },
  {
   "cell_type": "code",
   "execution_count": 71,
   "metadata": {},
   "outputs": [
    {
     "name": "stdout",
     "output_type": "stream",
     "text": [
      "[[23432.1 23755.2]\n",
      " [26753.1 27096.2]]\n",
      "\n",
      "[[23432.1 23755.2]\n",
      " [26753.1 27096.2]]\n"
     ]
    }
   ],
   "source": [
    "# multiply\n",
    "print(x * y)\n",
    "print()\n",
    "print(np.multiply(x, y))"
   ]
  },
  {
   "cell_type": "code",
   "execution_count": 72,
   "metadata": {},
   "outputs": [
    {
     "name": "stdout",
     "output_type": "stream",
     "text": [
      "[[0.52581715 0.52805281]\n",
      " [0.54726368 0.54930212]]\n",
      "\n",
      "[[0.52581715 0.52805281]\n",
      " [0.54726368 0.54930212]]\n"
     ]
    }
   ],
   "source": [
    "# divide\n",
    "print(x / y)\n",
    "print()\n",
    "print(np.divide(x, y))"
   ]
  },
  {
   "cell_type": "code",
   "execution_count": 73,
   "metadata": {},
   "outputs": [
    {
     "name": "stdout",
     "output_type": "stream",
     "text": [
      "[[10.53565375 10.58300524]\n",
      " [11.         11.04536102]]\n"
     ]
    }
   ],
   "source": [
    "# square root\n",
    "print(np.sqrt(x))"
   ]
  },
  {
   "cell_type": "code",
   "execution_count": 74,
   "metadata": {},
   "outputs": [
    {
     "name": "stdout",
     "output_type": "stream",
     "text": [
      "[[1.60948707e+48 4.37503945e+48]\n",
      " [3.54513118e+52 9.63666567e+52]]\n"
     ]
    }
   ],
   "source": [
    "# exponent (e ** x)\n",
    "print(np.exp(x))"
   ]
  },
  {
   "cell_type": "markdown",
   "metadata": {},
   "source": [
    "# <span style=\"color:dodgerBlue\">Video 5 Goals</span>\n",
    "\n",
    "* Use common ndarray functions for data analysis including statistical, sorting, and set operations"
   ]
  },
  {
   "cell_type": "markdown",
   "metadata": {},
   "source": [
    "## Statistical Methods, Sorting, and Set Operations"
   ]
  },
  {
   "cell_type": "markdown",
   "metadata": {},
   "source": [
    "### Basic Statistical Operations"
   ]
  },
  {
   "cell_type": "code",
   "execution_count": 76,
   "metadata": {},
   "outputs": [
    {
     "name": "stdout",
     "output_type": "stream",
     "text": [
      "[[ 3.24124891 10.79221245 13.24476096 -2.60633465  1.50900523]\n",
      " [15.75695651 -3.2707305  -0.02088301  0.29872254  8.92361285]]\n"
     ]
    }
   ],
   "source": [
    "# setup a random 2 x 4 matrix\n",
    "arr = 10 * np.random.randn(2,5)\n",
    "print(arr)"
   ]
  },
  {
   "cell_type": "code",
   "execution_count": 77,
   "metadata": {},
   "outputs": [
    {
     "name": "stdout",
     "output_type": "stream",
     "text": [
      "4.786857128183984\n"
     ]
    }
   ],
   "source": [
    "# compute the mean for all elements\n",
    "print(arr.mean())"
   ]
  },
  {
   "cell_type": "code",
   "execution_count": 78,
   "metadata": {},
   "outputs": [
    {
     "name": "stdout",
     "output_type": "stream",
     "text": [
      "[5.23617858 4.33753568]\n"
     ]
    }
   ],
   "source": [
    "# compute the means by row\n",
    "print(arr.mean(axis = 1))"
   ]
  },
  {
   "cell_type": "code",
   "execution_count": 79,
   "metadata": {},
   "outputs": [
    {
     "name": "stdout",
     "output_type": "stream",
     "text": [
      "[ 9.49910271  3.76074097  6.61193897 -1.15380606  5.21630904]\n"
     ]
    }
   ],
   "source": [
    "# compute the means by column\n",
    "print(arr.mean(axis = 0))"
   ]
  },
  {
   "cell_type": "code",
   "execution_count": 80,
   "metadata": {},
   "outputs": [
    {
     "name": "stdout",
     "output_type": "stream",
     "text": [
      "47.86857128183984\n"
     ]
    }
   ],
   "source": [
    "# sum all the elements\n",
    "print(arr.sum())"
   ]
  },
  {
   "cell_type": "code",
   "execution_count": 81,
   "metadata": {},
   "outputs": [
    {
     "name": "stdout",
     "output_type": "stream",
     "text": [
      "[3.24124891 0.29872254]\n"
     ]
    }
   ],
   "source": [
    "# compute the medians\n",
    "print(np.median(arr, axis = 1))"
   ]
  },
  {
   "cell_type": "markdown",
   "metadata": {},
   "source": [
    "### Sorting"
   ]
  },
  {
   "cell_type": "code",
   "execution_count": 82,
   "metadata": {},
   "outputs": [
    {
     "name": "stdout",
     "output_type": "stream",
     "text": [
      "[ 1.91994769 -0.70920206 -1.05920345 -1.15961669  1.2622369  -0.21435793\n",
      "  0.20314342  1.47261184 -0.10817332 -0.08749661]\n"
     ]
    }
   ],
   "source": [
    "# create a 10 element array of randoms\n",
    "unsorted = np.random.randn(10)\n",
    "\n",
    "print(unsorted)"
   ]
  },
  {
   "cell_type": "code",
   "execution_count": 83,
   "metadata": {},
   "outputs": [
    {
     "name": "stdout",
     "output_type": "stream",
     "text": [
      "[-1.15961669 -1.05920345 -0.70920206 -0.21435793 -0.10817332 -0.08749661\n",
      "  0.20314342  1.2622369   1.47261184  1.91994769]\n",
      "\n",
      "[ 1.91994769 -0.70920206 -1.05920345 -1.15961669  1.2622369  -0.21435793\n",
      "  0.20314342  1.47261184 -0.10817332 -0.08749661]\n"
     ]
    }
   ],
   "source": [
    "# create copy and sort\n",
    "sorted = np.array(unsorted)\n",
    "sorted.sort()\n",
    "\n",
    "print(sorted)\n",
    "print()\n",
    "print(unsorted)"
   ]
  },
  {
   "cell_type": "code",
   "execution_count": 84,
   "metadata": {},
   "outputs": [
    {
     "name": "stdout",
     "output_type": "stream",
     "text": [
      "[-1.15961669 -1.05920345 -0.70920206 -0.21435793 -0.10817332 -0.08749661\n",
      "  0.20314342  1.2622369   1.47261184  1.91994769]\n"
     ]
    }
   ],
   "source": [
    "# inplace sorting\n",
    "unsorted.sort() \n",
    "\n",
    "print(unsorted)"
   ]
  },
  {
   "cell_type": "markdown",
   "metadata": {},
   "source": [
    "### Finding Unique Elements"
   ]
  },
  {
   "cell_type": "code",
   "execution_count": 85,
   "metadata": {},
   "outputs": [
    {
     "name": "stdout",
     "output_type": "stream",
     "text": [
      "[1 2 4]\n"
     ]
    }
   ],
   "source": [
    "array = np.array([1, 2, 1, 4, 2, 1, 4, 2])\n",
    "\n",
    "print(np.unique(array))"
   ]
  },
  {
   "cell_type": "markdown",
   "metadata": {},
   "source": [
    "### Set operations with np.array data type"
   ]
  },
  {
   "cell_type": "code",
   "execution_count": 86,
   "metadata": {},
   "outputs": [
    {
     "name": "stdout",
     "output_type": "stream",
     "text": [
      "['desk' 'chair' 'bulb'] ['lamp' 'bulb' 'chair']\n"
     ]
    }
   ],
   "source": [
    "s1 = np.array(['desk','chair','bulb'])\n",
    "s2 = np.array(['lamp','bulb','chair'])\n",
    "print(s1, s2)"
   ]
  },
  {
   "cell_type": "code",
   "execution_count": 87,
   "metadata": {},
   "outputs": [
    {
     "name": "stdout",
     "output_type": "stream",
     "text": [
      "['bulb' 'chair']\n"
     ]
    }
   ],
   "source": [
    "print( np.intersect1d(s1, s2) ) "
   ]
  },
  {
   "cell_type": "code",
   "execution_count": 88,
   "metadata": {},
   "outputs": [
    {
     "name": "stdout",
     "output_type": "stream",
     "text": [
      "['bulb' 'chair' 'desk' 'lamp']\n"
     ]
    }
   ],
   "source": [
    "print( np.union1d(s1, s2) )"
   ]
  },
  {
   "cell_type": "code",
   "execution_count": 89,
   "metadata": {},
   "outputs": [
    {
     "name": "stdout",
     "output_type": "stream",
     "text": [
      "['desk']\n"
     ]
    }
   ],
   "source": [
    "print( np.setdiff1d(s1, s2) ) # elements in s1 that are not in s2"
   ]
  },
  {
   "cell_type": "code",
   "execution_count": 91,
   "metadata": {},
   "outputs": [
    {
     "name": "stdout",
     "output_type": "stream",
     "text": [
      "[False  True  True]\n"
     ]
    }
   ],
   "source": [
    "print( np.in1d(s1, s2) ) # boolean representing which element of s1 is also in s2"
   ]
  },
  {
   "cell_type": "markdown",
   "metadata": {},
   "source": [
    "# <span style=\"color:dodgerBlue\">Video 5 Goals</span>\n",
    "\n",
    "* Employ broadcasting to perform operations on different size ndarrays"
   ]
  },
  {
   "cell_type": "markdown",
   "metadata": {},
   "source": [
    "## <a href=\"https://docs.scipy.org/doc/numpy-1.10.1/user/basics.broadcasting.html\">Broadcasting</a>"
   ]
  },
  {
   "cell_type": "code",
   "execution_count": 93,
   "metadata": {},
   "outputs": [
    {
     "name": "stdout",
     "output_type": "stream",
     "text": [
      "[[0. 0. 0.]\n",
      " [0. 0. 0.]\n",
      " [0. 0. 0.]\n",
      " [0. 0. 0.]]\n"
     ]
    }
   ],
   "source": [
    "import numpy as np\n",
    "\n",
    "start = np.zeros((4,3))\n",
    "print(start)"
   ]
  },
  {
   "cell_type": "code",
   "execution_count": 94,
   "metadata": {},
   "outputs": [
    {
     "name": "stdout",
     "output_type": "stream",
     "text": [
      "[1 0 2]\n"
     ]
    }
   ],
   "source": [
    "# create a rank 1 ndarray with 3 values\n",
    "add_rows = np.array([1, 0, 2])\n",
    "print(add_rows)"
   ]
  },
  {
   "cell_type": "code",
   "execution_count": 95,
   "metadata": {},
   "outputs": [
    {
     "name": "stdout",
     "output_type": "stream",
     "text": [
      "[[1. 0. 2.]\n",
      " [1. 0. 2.]\n",
      " [1. 0. 2.]\n",
      " [1. 0. 2.]]\n"
     ]
    }
   ],
   "source": [
    "y = start + add_rows  # add to each row of 'start' using broadcasting\n",
    "print(y)"
   ]
  },
  {
   "cell_type": "code",
   "execution_count": 97,
   "metadata": {},
   "outputs": [
    {
     "name": "stdout",
     "output_type": "stream",
     "text": [
      "[[0]\n",
      " [1]\n",
      " [2]\n",
      " [3]]\n"
     ]
    }
   ],
   "source": [
    "# create an ndarray which is 4 x 1 to broadcast across columns\n",
    "add_cols = np.array([[0,1,2,3]])\n",
    "add_cols = add_cols.T # Transpose array\n",
    "\n",
    "print(add_cols)"
   ]
  },
  {
   "cell_type": "code",
   "execution_count": 98,
   "metadata": {},
   "outputs": [
    {
     "name": "stdout",
     "output_type": "stream",
     "text": [
      "[[0. 0. 0.]\n",
      " [1. 1. 1.]\n",
      " [2. 2. 2.]\n",
      " [3. 3. 3.]]\n"
     ]
    }
   ],
   "source": [
    "# add to each column of 'start' using broadcasting\n",
    "y = start + add_cols \n",
    "print(y)"
   ]
  },
  {
   "cell_type": "code",
   "execution_count": 99,
   "metadata": {},
   "outputs": [
    {
     "name": "stdout",
     "output_type": "stream",
     "text": [
      "[[1. 1. 1.]\n",
      " [1. 1. 1.]\n",
      " [1. 1. 1.]\n",
      " [1. 1. 1.]]\n"
     ]
    }
   ],
   "source": [
    "# this will just broadcast in both dimensions\n",
    "add_scalar = np.array([1])  \n",
    "print(start+add_scalar)"
   ]
  },
  {
   "cell_type": "markdown",
   "metadata": {},
   "source": [
    "# <span style=\"color:dodgerBlue\">Video 6 Goals</span>\n",
    "\n",
    "* Describe the speed benefits of ndarrays over lists"
   ]
  },
  {
   "cell_type": "markdown",
   "metadata": {},
   "source": [
    "## Speedtest: ndarrays vs lists"
   ]
  },
  {
   "cell_type": "markdown",
   "metadata": {},
   "source": [
    "First setup paramaters for the speed test. We'll be testing time to sum elements in an ndarray versus a list."
   ]
  },
  {
   "cell_type": "code",
   "execution_count": 100,
   "metadata": {},
   "outputs": [],
   "source": [
    "from numpy import arange\n",
    "from timeit import Timer\n",
    "\n",
    "size    = 1000000\n",
    "timeits = 1000"
   ]
  },
  {
   "cell_type": "code",
   "execution_count": 101,
   "metadata": {},
   "outputs": [
    {
     "name": "stdout",
     "output_type": "stream",
     "text": [
      "<class 'numpy.ndarray'>\n"
     ]
    }
   ],
   "source": [
    "# create the ndarray with values 0,1,2...,size-1\n",
    "nd_array = arange(size)\n",
    "print( type(nd_array) )"
   ]
  },
  {
   "cell_type": "code",
   "execution_count": 103,
   "metadata": {},
   "outputs": [
    {
     "name": "stdout",
     "output_type": "stream",
     "text": [
      "Time taken by numpy ndarray: 0.000643 seconds\n"
     ]
    }
   ],
   "source": [
    "# timer expects the operation as a parameter, \n",
    "# here we pass nd_array.sum()\n",
    "timer_numpy = Timer(\"nd_array.sum()\", \"from __main__ import nd_array\")\n",
    "\n",
    "print(\"Time taken by numpy ndarray: %f seconds\" % \n",
    "      (timer_numpy.timeit(timeits)/timeits))"
   ]
  },
  {
   "cell_type": "code",
   "execution_count": 104,
   "metadata": {},
   "outputs": [
    {
     "name": "stdout",
     "output_type": "stream",
     "text": [
      "<class 'list'>\n"
     ]
    }
   ],
   "source": [
    "# create the list with values 0,1,2...,size-1\n",
    "a_list = list(range(size))\n",
    "print (type(a_list) )"
   ]
  },
  {
   "cell_type": "code",
   "execution_count": 105,
   "metadata": {},
   "outputs": [
    {
     "name": "stdout",
     "output_type": "stream",
     "text": [
      "Time taken by list:  0.038216 seconds\n"
     ]
    }
   ],
   "source": [
    "# timer expects the operation as a parameter, here we pass sum(a_list)\n",
    "timer_list = Timer(\"sum(a_list)\", \"from __main__ import a_list\")\n",
    "\n",
    "print(\"Time taken by list:  %f seconds\" % \n",
    "      (timer_list.timeit(timeits)/timeits))"
   ]
  }
 ],
 "metadata": {
  "kernelspec": {
   "display_name": "Python 3",
   "language": "python",
   "name": "python3"
  },
  "language_info": {
   "codemirror_mode": {
    "name": "ipython",
    "version": 3
   },
   "file_extension": ".py",
   "mimetype": "text/x-python",
   "name": "python",
   "nbconvert_exporter": "python",
   "pygments_lexer": "ipython3",
   "version": "3.7.3"
  }
 },
 "nbformat": 4,
 "nbformat_minor": 2
}
