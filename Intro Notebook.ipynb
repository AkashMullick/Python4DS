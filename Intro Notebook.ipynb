{
 "cells": [
  {
   "cell_type": "code",
   "execution_count": 3,
   "metadata": {},
   "outputs": [
    {
     "name": "stdout",
     "output_type": "stream",
     "text": [
      "Hello World\n"
     ]
    }
   ],
   "source": [
    "print(\"Hello World\")"
   ]
  },
  {
   "cell_type": "markdown",
   "metadata": {},
   "source": [
    "Below is how we calculate the number of seconds in a leap year."
   ]
  },
  {
   "cell_type": "code",
   "execution_count": 6,
   "metadata": {},
   "outputs": [
    {
     "data": {
      "text/plain": [
       "31622400"
      ]
     },
     "execution_count": 6,
     "metadata": {},
     "output_type": "execute_result"
    }
   ],
   "source": [
    "366*24*60*60"
   ]
  },
  {
   "cell_type": "code",
   "execution_count": 7,
   "metadata": {
    "scrolled": true
   },
   "outputs": [
    {
     "data": {
      "text/plain": [
       "31.6224"
      ]
     },
     "execution_count": 7,
     "metadata": {},
     "output_type": "execute_result"
    }
   ],
   "source": [
    "_/1e6"
   ]
  },
  {
   "cell_type": "code",
   "execution_count": 8,
   "metadata": {},
   "outputs": [
    {
     "data": {
      "text/plain": [
       "31536000"
      ]
     },
     "execution_count": 8,
     "metadata": {},
     "output_type": "execute_result"
    }
   ],
   "source": [
    "365*24*60*60"
   ]
  },
  {
   "cell_type": "code",
   "execution_count": 9,
   "metadata": {
    "scrolled": true
   },
   "outputs": [
    {
     "data": {
      "text/plain": [
       "31.536"
      ]
     },
     "execution_count": 9,
     "metadata": {},
     "output_type": "execute_result"
    }
   ],
   "source": [
    "_/1e6"
   ]
  },
  {
   "cell_type": "code",
   "execution_count": 10,
   "metadata": {},
   "outputs": [
    {
     "name": "stdout",
     "output_type": "stream",
     "text": [
      "7\n"
     ]
    }
   ],
   "source": [
    "x = 4 + 3\n",
    "print(x)"
   ]
  },
  {
   "cell_type": "markdown",
   "metadata": {},
   "source": [
    "# This is a markdown cell.\n",
    "\n",
    "## This is heading 2.\n",
    "\n",
    "### This is heading 3\n",
    "\n",
    "Hi!\n",
    "* One Fish\n",
    "* Two Fish\n",
    "* Red Fish\n",
    "* Blue Fish\n",
    "\n",
    "**example text**\n",
    "\n",
    "*example text*\n",
    "\n",
    "https://google.com"
   ]
  },
  {
   "cell_type": "markdown",
   "metadata": {},
   "source": [
    "This is a **Latex** equation:\n",
    "\n",
    "$\\int_0^\\infty x^{-\\alpha}$"
   ]
  },
  {
   "cell_type": "code",
   "execution_count": 2,
   "metadata": {},
   "outputs": [
    {
     "data": {
      "text/plain": [
       "[<matplotlib.lines.Line2D at 0x215efd93828>]"
      ]
     },
     "execution_count": 2,
     "metadata": {},
     "output_type": "execute_result"
    },
    {
     "data": {
      "image/png": "[encoded data removed]",
      "text/plain": [
       "<Figure size 432x288 with 1 Axes>"
      ]
     },
     "metadata": {
      "needs_background": "light"
     },
     "output_type": "display_data"
    }
   ],
   "source": [
    "%matplotlib inline\n",
    "from matplotlib.pyplot import plot\n",
    "\n",
    "plot([0,1,0,1])"
   ]
  },
  {
   "cell_type": "markdown",
   "metadata": {},
   "source": [
    "This is a plot using matplot of a vector."
   ]
  },
  {
   "cell_type": "markdown",
   "metadata": {},
   "source": [
    "# Declare Filename"
   ]
  },
  {
   "cell_type": "code",
   "execution_count": 12,
   "metadata": {},
   "outputs": [
    {
     "name": "stdout",
     "output_type": "stream",
     "text": [
      "count_vs_words\n",
      "fruits.txt\n",
      "shakespeare.txt\n"
     ]
    }
   ],
   "source": [
    "%%bash\n",
    "ls ./Week-2-UNIXDataFiles/Week-2-UNIXDataFiles"
   ]
  },
  {
   "cell_type": "code",
   "execution_count": 41,
   "metadata": {},
   "outputs": [
    {
     "name": "stdout",
     "output_type": "stream",
     "text": [
      "./Week-2-UNIXDataFiles/Week-2-UNIXDataFiles/shakespeare.txt\n",
      "./Week-2-UNIXDataFiles/Week-2-UNIXDataFiles/shakespeare.txt\n"
     ]
    }
   ],
   "source": [
    "filename = './Week-2-UNIXDataFiles/Week-2-UNIXDataFiles/shakespeare.txt'\n",
    "!echo $filename\n",
    "print(filename)"
   ]
  },
  {
   "cell_type": "markdown",
   "metadata": {},
   "source": [
    "# head"
   ]
  },
  {
   "cell_type": "code",
   "execution_count": 26,
   "metadata": {},
   "outputs": [
    {
     "name": "stdout",
     "output_type": "stream",
     "text": [
      "According to all known laws\r\n",
      "of aviation,\r\n",
      "\r\n",
      "  \r\n",
      "there is no way a bee\r\n",
      "should be able to fly.\r\n"
     ]
    }
   ],
   "source": [
    "%%bash\n",
    "head -n 6 ./Week-2-UNIXDataFiles/Week-2-UNIXDataFiles/shakespeare.txt"
   ]
  },
  {
   "cell_type": "markdown",
   "metadata": {},
   "source": [
    "# tail"
   ]
  },
  {
   "cell_type": "code",
   "execution_count": 33,
   "metadata": {},
   "outputs": [
    {
     "name": "stdout",
     "output_type": "stream",
     "text": [
      "  \r\n",
      "I'm not making a major life decision\r\n",
      "during a production number!\r\n",
      "\r\n",
      "  \r\n",
      "All right. Take ten, everybody.\r\n",
      "Wrap it up, guys.\r\n",
      "\r\n",
      "  \r\n",
      "I had virtually no rehearsal for that."
     ]
    }
   ],
   "source": [
    "%%bash\n",
    "tail -n 10 ./Week-2-UNIXDataFiles/Week-2-UNIXDataFiles/shakespeare.txt"
   ]
  },
  {
   "cell_type": "markdown",
   "metadata": {},
   "source": [
    "# wc"
   ]
  },
  {
   "cell_type": "code",
   "execution_count": 39,
   "metadata": {},
   "outputs": [
    {
     "name": "stdout",
     "output_type": "stream",
     "text": [
      " 4561  9478 59875 ./Week-2-UNIXDataFiles/Week-2-UNIXDataFiles/shakespeare.txt\n"
     ]
    }
   ],
   "source": [
    "%%bash\n",
    "wc ./Week-2-UNIXDataFiles/Week-2-UNIXDataFiles/shakespeare.txt"
   ]
  },
  {
   "cell_type": "code",
   "execution_count": 42,
   "metadata": {},
   "outputs": [
    {
     "name": "stdout",
     "output_type": "stream",
     "text": [
      "4561 ./Week-2-UNIXDataFiles/Week-2-UNIXDataFiles/shakespeare.txt\n"
     ]
    }
   ],
   "source": [
    "%%bash\n",
    "wc -l ./Week-2-UNIXDataFiles/Week-2-UNIXDataFiles/shakespeare.txt"
   ]
  },
  {
   "cell_type": "markdown",
   "metadata": {},
   "source": [
    "# cat"
   ]
  },
  {
   "cell_type": "code",
   "execution_count": 45,
   "metadata": {},
   "outputs": [
    {
     "name": "stdout",
     "output_type": "stream",
     "text": [
      "4561\n"
     ]
    }
   ],
   "source": [
    "%%bash\n",
    "cat ./Week-2-UNIXDataFiles/Week-2-UNIXDataFiles/shakespeare.txt | wc -l"
   ]
  },
  {
   "cell_type": "markdown",
   "metadata": {},
   "source": [
    "# grep"
   ]
  },
  {
   "cell_type": "code",
   "execution_count": 43,
   "metadata": {},
   "outputs": [
    {
     "name": "stdout",
     "output_type": "stream",
     "text": [
      "there is no way a bee\r\n",
      "The bee, of course, flies anyway\r\n",
      "because bees don't care\r\n",
      "- Bee-men.\r\n",
      "Students, faculty, distinguished bees,\r\n",
      "We know that you, as a bee,\r\n",
      "of bee existence.\r\n",
      "These bees are stress-testing\r\n",
      "Of course. Most bee jobs are\r\n",
      "small ones. But bees know\r\n",
      "You'll be happy to know that bees,\r\n",
      "We're bees.\r\n",
      "Bees make too much of it.\r\n",
      "Are you bee enough?\r\n",
      "Pollen counting, stunt bee, pouring,\r\n",
      "A bee died. Makes an opening. See?\r\n",
      "stunt bee, pourer, stirrer,\r\n",
      "bees cannot fly in rain.\r\n",
      "of root beer being poured on us.\r\n",
      "bee law number one,\r\n",
      "My sweet lord of bees!\r\n",
      "There's a bee in the car!\r\n",
      "- Hi, bee.\r\n",
      "Mayday! Mayday! Bee going down!\r\n",
      "Wait! Stop! Bee!\r\n",
      "It's a bee law.\r\n",
      "I mean, you're a bee!\r\n",
      "- I'm talking with a bee.\r\n",
      "I'm talking to a bee.\r\n",
      "And the bee is talking to me!\r\n",
      "Bees are funny. If we didn't laugh,\r\n",
      "Is that a bee joke?\r\n",
      "Anyway, this has been great.\r\n",
      "You did? Was she Bee-ish?\r\n",
      "No, no. That's a bee law.\r\n",
      "You wouldn't break a bee law.\r\n",
      "You have got to start thinking bee,\r\n",
      "my friend. Thinking bee!\r\n",
      "- Thinking bee.\r\n",
      "- Thinking bee.\r\n",
      "Thinking bee! Thinking bee!\r\n",
      "Thinking bee! Thinking bee!\r\n",
      "I gotta start thinking bee?\r\n",
      "It's been three days!\r\n",
      "You have no job. You're barely a bee!\r\n",
      "I just hope she's Bee-ish.\r\n",
      "Dumb bees!\r\n",
      "Oute Bee, Golden Blossom,\r\n",
      "- Bees make it.\r\n",
      "Bees don't know about this!\r\n",
      "to do is upset bees!\r\n",
      "Jump on! It's your only chance, bee!\r\n",
      "- Bee!\r\n",
      "Whassup, bee boy?\r\n",
      "- Bees hang tight.\r\n",
      "the building! So long, bee!\r\n",
      "A bee's got a brain\r\n",
      "Bee honey.\r\n",
      "He's been talking to humans.\r\n",
      "The bees!\r\n",
      "Nobody works harder than bees!\r\n",
      "Even if it's true, what can one bee do?\r\n",
      "No more bee beards!\r\n",
      "A tri-county bee, Barry Benson,\r\n",
      "Tomorrow night on Bee Larry King,\r\n",
      "Bees have never been afraid\r\n",
      "What about Bee Oolumbus?\r\n",
      "Bee Gandhi? Bejesus?\r\n",
      "The bee community\r\n",
      "of the bee century.\r\n",
      "- Is that that same bee?\r\n",
      "- Hello, bee.\r\n",
      "You two have been at this for hours!\r\n",
      "has been a huge help.\r\n",
      "Bees have good qualities.\r\n",
      "Bees must hate those fake things!\r\n",
      "if a honeybee can actually speak.\r\n",
      "Well, if it isn't the bee team.\r\n",
      "Barry Bee Benson v. the Honey Industry\r\n",
      "all the bees of the world?\r\n",
      "Talking bee!\r\n",
      "I'm just an ordinary bee.\r\n",
      "It's important to all bees.\r\n",
      "Yes, they provide beekeepers\r\n",
      "Beekeeper. I find that\r\n",
      "any bee-free-ers, do you?\r\n",
      "Because you don't free bees.\r\n",
      "You keep bees. Not only that,\r\n",
      "Bears kill bees!\r\n",
      "But you've never been\r\n",
      "of bee culture casually\r\n",
      "Have you ever been stung, Mr. Sting?\r\n",
      "Exploiting tiny, helpless bees\r\n",
      "Bees have 100 percent employment,\r\n",
      "He's just a little bee!\r\n",
      "the nicest bee I've met in a long time!\r\n",
      "Fine! Talking bees, no yogurt night...\r\n",
      "Mr. Barry Benson Bee to the stand.\r\n",
      "of what they don't like about bees.\r\n",
      "Mr. Benson Bee, I'll ask you\r\n",
      "I've seen a bee documentary or two.\r\n",
      "to all the bee children?\r\n",
      "You're an illegitimate bee,\r\n",
      "He's denouncing bees!\r\n",
      "I have been felled\r\n",
      "The case of the honeybees\r\n",
      "took a pointed turn against the bees\r\n",
      "Bees don't smoke.\r\n",
      "Right. Bees don't smoke.\r\n",
      "Bees don't smoke!\r\n",
      "But some bees are smoking.\r\n",
      "Bees are trained to fly haphazardly,\r\n",
      "It's a bee smoker!\r\n",
      "let alone a bee.\r\n",
      "to bees who have never been asked,\r\n",
      "free these bees!\r\n",
      "Free the bees! Free the bees!\r\n",
      "Free the bees!\r\n",
      "Free the bees! Free the bees!\r\n",
      "The court finds in favor of the bees!\r\n",
      "will finally belong to the bees.\r\n",
      "We've been living the bee way\r\n",
      "of all bee work camps.\r\n",
      "bee-negative nicknames...\r\n",
      "You know, I'm gonna guess bees.\r\n",
      "Bees?\r\n",
      "I didn't think bees not needing to make\r\n",
      "Fruits, vegetables, they all need bees.\r\n",
      "Flowers, bees, pollen!\r\n",
      "I know every bee, plant\r\n",
      "- Bees.\r\n",
      "Has it been\r\n",
      "Bee!\r\n",
      "- Is that another bee joke?\r\n",
      "than a big metal bee.\r\n",
      "There's a bee on that plane.\r\n",
      "Technically, a bee\r\n",
      "Making honey takes a lot of bees\r\n",
      "That's why I want to get bees\r\n",
      "That's the bee way!\r\n",
      "Beep-beep! Beep-beep!\r\n",
      "- That may have been helping me.\r\n",
      "Oome on. You got to think bee, Barry.\r\n",
      "- Thinking bee.\r\n",
      "- Thinking bee.\r\n",
      "Thinking bee!\r\n",
      "Thinking bee! Thinking bee!\r\n",
      "Thinking bee!\r\n",
      "Thinking bee! Thinking bee!\r\n",
      "Thinking bee!\r\n",
      "Thinking bee! Thinking bee!\r\n",
      "on bee power. Ready, boys?\r\n",
      "made of millions of bees!\r\n",
      "Are we going to be bees, orjust\r\n",
      "We're bees!\r\n",
      "Mom! The bees are back!\r\n",
      "It is bee-approved. Don't forget these.\r\n",
      "That bee is living my life!\r\n",
      "to start thinking bee, my friend.\r\n",
      "- Thinking bee!\r\n"
     ]
    }
   ],
   "source": [
    "%%bash\n",
    "grep -i 'bee' ./Week-2-UNIXDataFiles/Week-2-UNIXDataFiles/shakespeare.txt"
   ]
  },
  {
   "cell_type": "code",
   "execution_count": 46,
   "metadata": {},
   "outputs": [
    {
     "name": "stdout",
     "output_type": "stream",
     "text": [
      "9\n"
     ]
    }
   ],
   "source": [
    "%%bash\n",
    "cat ./Week-2-UNIXDataFiles/Week-2-UNIXDataFiles/shakespeare.txt | grep -o 'pollen' | wc -l"
   ]
  },
  {
   "cell_type": "markdown",
   "metadata": {},
   "source": [
    "# sed"
   ]
  },
  {
   "cell_type": "code",
   "execution_count": 52,
   "metadata": {},
   "outputs": [],
   "source": [
    "%%bash\n",
    "sed -e 's/bee/BEAN/g' ./Week-2-UNIXDataFiles/Week-2-UNIXDataFiles/shakespeare.txt > temp.txt"
   ]
  },
  {
   "cell_type": "code",
   "execution_count": 53,
   "metadata": {},
   "outputs": [
    {
     "name": "stdout",
     "output_type": "stream",
     "text": [
      "there is no way a BEAN\r\n",
      "The BEAN, of course, flies anyway\r\n",
      "because BEANs don't care\r\n",
      "Students, faculty, distinguished BEANs,\r\n",
      "We know that you, as a BEAN,\r\n",
      "of BEAN existence.\r\n",
      "These BEANs are stress-testing\r\n",
      "Of course. Most BEAN jobs are\r\n",
      "small ones. But BEANs know\r\n",
      "You'll be happy to know that BEANs,\r\n",
      "We're BEANs.\r\n",
      "Are you BEAN enough?\r\n",
      "Pollen counting, stunt BEAN, pouring,\r\n",
      "A BEAN died. Makes an opening. See?\r\n",
      "stunt BEAN, pourer, stirrer,\r\n",
      "BEANs cannot fly in rain.\r\n",
      "of root BEANr being poured on us.\r\n",
      "BEAN law number one,\r\n",
      "My sweet lord of BEANs!\r\n",
      "There's a BEAN in the car!\r\n",
      "- Hi, BEAN.\r\n",
      "It's a BEAN law.\r\n",
      "I mean, you're a BEAN!\r\n",
      "- I'm talking with a BEAN.\r\n",
      "I'm talking to a BEAN.\r\n",
      "And the BEAN is talking to me!\r\n",
      "Is that a BEAN joke?\r\n",
      "Anyway, this has BEANn great.\r\n",
      "No, no. That's a BEAN law.\r\n",
      "You wouldn't break a BEAN law.\r\n",
      "You have got to start thinking BEAN,\r\n",
      "my friend. Thinking BEAN!\r\n",
      "- Thinking BEAN.\r\n",
      "- Thinking BEAN.\r\n",
      "Thinking BEAN! Thinking BEAN!\r\n",
      "Thinking BEAN! Thinking BEAN!\r\n",
      "I gotta start thinking BEAN?\r\n",
      "It's BEANn three days!\r\n",
      "You have no job. You're barely a BEAN!\r\n",
      "Dumb BEANs!\r\n",
      "to do is upset BEANs!\r\n",
      "Jump on! It's your only chance, BEAN!\r\n",
      "Whassup, BEAN boy?\r\n",
      "the building! So long, BEAN!\r\n",
      "A BEAN's got a brain\r\n",
      "He's BEANn talking to humans.\r\n",
      "The BEANs!\r\n",
      "Nobody works harder than BEANs!\r\n",
      "Even if it's true, what can one BEAN do?\r\n",
      "No more BEAN beards!\r\n",
      "A tri-county BEAN, Barry Benson,\r\n",
      "Bees have never BEANn afraid\r\n",
      "The BEAN community\r\n",
      "of the BEAN century.\r\n",
      "- Is that that same BEAN?\r\n",
      "- Hello, BEAN.\r\n",
      "You two have BEANn at this for hours!\r\n",
      "has BEANn a huge help.\r\n",
      "if a honeyBEAN can actually speak.\r\n",
      "Well, if it isn't the BEAN team.\r\n",
      "all the BEANs of the world?\r\n",
      "Talking BEAN!\r\n",
      "I'm just an ordinary BEAN.\r\n",
      "It's important to all BEANs.\r\n",
      "Yes, they provide BEANkeepers\r\n",
      "any BEAN-free-ers, do you?\r\n",
      "Because you don't free BEANs.\r\n",
      "You keep BEANs. Not only that,\r\n",
      "Bears kill BEANs!\r\n",
      "But you've never BEANn\r\n",
      "of BEAN culture casually\r\n",
      "Have you ever BEANn stung, Mr. Sting?\r\n",
      "Exploiting tiny, helpless BEANs\r\n",
      "He's just a little BEAN!\r\n",
      "the nicest BEAN I've met in a long time!\r\n",
      "Fine! Talking BEANs, no yogurt night...\r\n",
      "of what they don't like about BEANs.\r\n",
      "I've seen a BEAN documentary or two.\r\n",
      "to all the BEAN children?\r\n",
      "You're an illegitimate BEAN,\r\n",
      "He's denouncing BEANs!\r\n",
      "I have BEANn felled\r\n",
      "The case of the honeyBEANs\r\n",
      "took a pointed turn against the BEANs\r\n",
      "But some BEANs are smoking.\r\n",
      "It's a BEAN smoker!\r\n",
      "let alone a BEAN.\r\n",
      "to BEANs who have never BEANn asked,\r\n",
      "free these BEANs!\r\n",
      "Free the BEANs! Free the BEANs!\r\n",
      "Free the BEANs!\r\n",
      "Free the BEANs! Free the BEANs!\r\n",
      "The court finds in favor of the BEANs!\r\n",
      "will finally belong to the BEANs.\r\n",
      "We've BEANn living the BEAN way\r\n",
      "of all BEAN work camps.\r\n",
      "BEAN-negative nicknames...\r\n",
      "You know, I'm gonna guess BEANs.\r\n",
      "I didn't think BEANs not needing to make\r\n",
      "Fruits, vegetables, they all need BEANs.\r\n",
      "Flowers, BEANs, pollen!\r\n",
      "I know every BEAN, plant\r\n",
      "Has it BEANn\r\n",
      "- Is that another BEAN joke?\r\n",
      "than a big metal BEAN.\r\n",
      "There's a BEAN on that plane.\r\n",
      "Technically, a BEAN\r\n",
      "Making honey takes a lot of BEANs\r\n",
      "That's why I want to get BEANs\r\n",
      "That's the BEAN way!\r\n",
      "Beep-BEANp! Beep-BEANp!\r\n",
      "- That may have BEANn helping me.\r\n",
      "Oome on. You got to think BEAN, Barry.\r\n",
      "- Thinking BEAN.\r\n",
      "- Thinking BEAN.\r\n",
      "Thinking BEAN!\r\n",
      "Thinking BEAN! Thinking BEAN!\r\n",
      "Thinking BEAN!\r\n",
      "Thinking BEAN! Thinking BEAN!\r\n",
      "Thinking BEAN!\r\n",
      "Thinking BEAN! Thinking BEAN!\r\n",
      "on BEAN power. Ready, boys?\r\n",
      "made of millions of BEANs!\r\n",
      "Are we going to be BEANs, orjust\r\n",
      "We're BEANs!\r\n",
      "Mom! The BEANs are back!\r\n",
      "It is BEAN-approved. Don't forget these.\r\n",
      "That BEAN is living my life!\r\n",
      "to start thinking BEAN, my friend.\r\n",
      "- Thinking BEAN!\r\n"
     ]
    }
   ],
   "source": [
    "%%bash\n",
    "grep -i 'BEAN' temp.txt"
   ]
  },
  {
   "cell_type": "markdown",
   "metadata": {},
   "source": [
    "# sort"
   ]
  },
  {
   "cell_type": "code",
   "execution_count": 84,
   "metadata": {},
   "outputs": [
    {
     "name": "stdout",
     "output_type": "stream",
     "text": [
      "According to all known laws\r\n",
      "of aviation,\r\n",
      "\r\n",
      "  \r\n",
      "there is no way a bee\r\n"
     ]
    }
   ],
   "source": [
    "%%bash\n",
    "# SORT\n",
    "head -n 5 ./Week-2-UNIXDataFiles/Week-2-UNIXDataFiles/shakespeare.txt"
   ]
  },
  {
   "cell_type": "code",
   "execution_count": 76,
   "metadata": {},
   "outputs": [
    {
     "name": "stdout",
     "output_type": "stream",
     "text": [
      "\r\n",
      "  \r\n",
      "According to all known laws\r\n",
      "of aviation,\r\n",
      "there is no way a bee\r\n"
     ]
    }
   ],
   "source": [
    "%%bash\n",
    "head -n 5 ./Week-2-UNIXDataFiles/Week-2-UNIXDataFiles/shakespeare.txt | sort"
   ]
  },
  {
   "cell_type": "code",
   "execution_count": 83,
   "metadata": {},
   "outputs": [
    {
     "name": "stdout",
     "output_type": "stream",
     "text": [
      "\r\n",
      "  \r\n",
      "of aviation,\r\n",
      "there is no way a bee\r\n",
      "According to all known laws\r\n"
     ]
    }
   ],
   "source": [
    "%%bash\n",
    "# columns separated by ' ', sort on column 2 (-k2), case insensitive (-f)\n",
    "head -n 5 ./Week-2-UNIXDataFiles/Week-2-UNIXDataFiles/shakespeare.txt | sort -f -t ' ' -k2"
   ]
  },
  {
   "cell_type": "code",
   "execution_count": 82,
   "metadata": {},
   "outputs": [
    {
     "name": "stdout",
     "output_type": "stream",
     "text": [
      "4562\n"
     ]
    }
   ],
   "source": [
    "%%bash\n",
    "sort ./Week-2-UNIXDataFiles/Week-2-UNIXDataFiles/shakespeare.txt | wc -l"
   ]
  },
  {
   "cell_type": "code",
   "execution_count": 85,
   "metadata": {},
   "outputs": [
    {
     "name": "stdout",
     "output_type": "stream",
     "text": [
      "1885\n"
     ]
    }
   ],
   "source": [
    "%%bash\n",
    "# uniq command for getting unique records using -u option\n",
    "sort ./Week-2-UNIXDataFiles/Week-2-UNIXDataFiles/shakespeare.txt | uniq -u | wc -l"
   ]
  },
  {
   "cell_type": "markdown",
   "metadata": {},
   "source": [
    "# Lets bring it all together"
   ]
  },
  {
   "cell_type": "markdown",
   "metadata": {},
   "source": [
    "## Count most frequent words in the text in UNIX"
   ]
  },
  {
   "cell_type": "code",
   "execution_count": 89,
   "metadata": {},
   "outputs": [
    {
     "name": "stdout",
     "output_type": "stream",
     "text": [
      "   2588 \r\n",
      "   2588 \n",
      "    324 -\n",
      "    241 a\n",
      "    235 I\n",
      "    231 the\n",
      "    183 to\n",
      "    140 you\n",
      "    129 of\n",
      "     91 is\n",
      "     86 You\n",
      "     79 I'm\n",
      "     74 and\n",
      "     73 in\n",
      "     69 it\n"
     ]
    }
   ],
   "source": [
    "%%bash\n",
    "sed -e 's/ /\\'$'\\n/g' < ./Week-2-UNIXDataFiles/Week-2-UNIXDataFiles/shakespeare.txt | sort | uniq -c | sort -nr | head -15"
   ]
  },
  {
   "cell_type": "markdown",
   "metadata": {},
   "source": [
    "## Write the output to a file"
   ]
  },
  {
   "cell_type": "code",
   "execution_count": 91,
   "metadata": {},
   "outputs": [],
   "source": [
    "%%bash\n",
    "sed -e 's/ /\\'$'\\n/g' < ./Week-2-UNIXDataFiles/Week-2-UNIXDataFiles/shakespeare.txt | sort | uniq -c | sort -nr | head -15 > count_vs_words"
   ]
  },
  {
   "cell_type": "code",
   "execution_count": 93,
   "metadata": {},
   "outputs": [
    {
     "name": "stdout",
     "output_type": "stream",
     "text": [
      "   2588 \r\n",
      "   2588 \n",
      "    324 -\n",
      "    241 a\n",
      "    235 I\n",
      "    231 the\n",
      "    183 to\n",
      "    140 you\n",
      "    129 of\n",
      "     91 is\n",
      "     86 You\n",
      "     79 I'm\n",
      "     74 and\n",
      "     73 in\n",
      "     69 it\n"
     ]
    }
   ],
   "source": [
    "%%bash\n",
    "cat count_vs_words"
   ]
  },
  {
   "cell_type": "markdown",
   "metadata": {},
   "source": [
    "## Plot by importing word counts into Python"
   ]
  },
  {
   "cell_type": "code",
   "execution_count": 94,
   "metadata": {},
   "outputs": [],
   "source": [
    "%matplotlib inline"
   ]
  },
  {
   "cell_type": "code",
   "execution_count": 101,
   "metadata": {},
   "outputs": [
    {
     "data": {
      "image/png": "[encoded data removed]",
      "text/plain": [
       "<Figure size 720x720 with 1 Axes>"
      ]
     },
     "metadata": {
      "needs_background": "light"
     },
     "output_type": "display_data"
    }
   ],
   "source": [
    "import matplotlib.pyplot as plt\n",
    "import csv\n",
    "\n",
    "xTicks = []\n",
    "y = []\n",
    "\n",
    "with open('count_vs_words', 'r') as csvfile:\n",
    "        plots = csv.reader(csvfile, delimiter = ' ')\n",
    "        for row in plots:\n",
    "            y.append(int(row[-2]))\n",
    "            xTicks.append(str(row[-1]))\n",
    "            \n",
    "#remove the count of space (first line)\n",
    "y = y[1:]\n",
    "xTicks = xTicks[1:]\n",
    "#plot\n",
    "x = range(len(y))\n",
    "plt.figure(figsize = (10, 10))\n",
    "plt.xticks(x, xTicks, rotation = 90) #xlabel with 90 degree angle\n",
    "plt.plot(x, y, '*')\n",
    "plt.show()"
   ]
  },
  {
   "cell_type": "code",
   "execution_count": null,
   "metadata": {},
   "outputs": [],
   "source": []
  }
 ],
 "metadata": {
  "kernelspec": {
   "display_name": "Python 3",
   "language": "python",
   "name": "python3"
  },
  "language_info": {
   "codemirror_mode": {
    "name": "ipython",
    "version": 3
   },
   "file_extension": ".py",
   "mimetype": "text/x-python",
   "name": "python",
   "nbconvert_exporter": "python",
   "pygments_lexer": "ipython3",
   "version": "3.7.3"
  }
 },
 "nbformat": 4,
 "nbformat_minor": 2
}
